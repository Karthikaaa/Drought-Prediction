{
 "cells": [
  {
   "cell_type": "code",
   "execution_count": null,
   "id": "9634acf4-637a-4382-b37b-c5e74b6814b9",
   "metadata": {},
   "outputs": [],
   "source": [
    "import json\n",
    "import os\n",
    "import pandas as pd\n",
    "import joblib  # or pickle\n",
    "from sklearn.metrics import accuracy_score, precision_score, recall_score, f1_score, confusion_matrix\n",
    "\n",
    "# Load the model\n",
    "def model_fn(model_dir):\n",
    "    model = joblib.load(os.path.join(model_dir, \"random_forest_model.pkl\"))\n",
    "    return model\n",
    "\n",
    "# Handle input data\n",
    "def input_fn(request_body, request_content_type):\n",
    "    if request_content_type == 'application/vnd.openxmlformats-officedocument.spreadsheetml.sheet':\n",
    "        # Load Excel file into a DataFrame\n",
    "        df = pd.read_excel(request_body)\n",
    "        return df\n",
    "    else:\n",
    "        raise ValueError(\"Unsupported content type: {}\".format(request_content_type))\n",
    "\n",
    "# Make predictions and calculate performance metrics\n",
    "def predict_fn(input_data, model):\n",
    "    # Assuming the last column is the target variable\n",
    "    X = input_data.drop(columns=['score'])  # Features\n",
    "    y_true = input_data['score']  # True labels\n",
    "\n",
    "    # Predict using the model\n",
    "    y_pred = model.predict(X)\n",
    "\n",
    "    # Calculate performance metrics\n",
    "    accuracy = accuracy_score(y_true, y_pred)\n",
    "    precision_macro = precision_score(y_true, y_pred, average='macro')\n",
    "    recall_macro = recall_score(y_true, y_pred, average='macro')\n",
    "    f1_macro = f1_score(y_true, y_pred, average='macro')\n",
    "    precision_micro = precision_score(y_true, y_pred, average='micro')\n",
    "    recall_micro = recall_score(y_true, y_pred, average='micro')\n",
    "    f1_micro = f1_score(y_true, y_pred, average='micro')\n",
    "    conf_matrix = confusion_matrix(y_true, y_pred).tolist()  # Convert to list for JSON serialization\n",
    "\n",
    "    # Return metrics rounded to 4 decimal places\n",
    "    result = {\n",
    "        \"accuracy\": round(accuracy, 4),\n",
    "        \"precision_macro\": round(precision_macro, 4),\n",
    "        \"recall_macro\": round(recall_macro, 4),\n",
    "        \"f1_macro\": round(f1_macro, 4),\n",
    "        \"precision_micro\": round(precision_micro, 4),\n",
    "        \"recall_micro\": round(recall_micro, 4),\n",
    "        \"f1_micro\": round(f1_micro, 4),\n",
    "        \"confusion_matrix\": conf_matrix\n",
    "    }\n",
    "    return result\n",
    "\n",
    "# Format the output\n",
    "def output_fn(prediction, content_type):\n",
    "    return json.dumps(prediction)\n"
   ]
  }
 ],
 "metadata": {
  "kernelspec": {
   "display_name": "Python 3 (ipykernel)",
   "language": "python",
   "name": "python3"
  },
  "language_info": {
   "codemirror_mode": {
    "name": "ipython",
    "version": 3
   },
   "file_extension": ".py",
   "mimetype": "text/x-python",
   "name": "python",
   "nbconvert_exporter": "python",
   "pygments_lexer": "ipython3",
   "version": "3.11.5"
  }
 },
 "nbformat": 4,
 "nbformat_minor": 5
}
